{
 "cells": [
  {
   "cell_type": "code",
   "execution_count": 17,
   "id": "f9bd318f-72a7-4bae-9ac0-c9bc256d53a4",
   "metadata": {},
   "outputs": [],
   "source": [
    "fruits =  [\"apple\", \"orange\", \"banana\", \"coconut\"]\n",
    "vegetables = [\"carrots\", \"tomato\", \"potato\"]\n",
    "meats = [\"chiken\", \"fish\", \"pork\"]"
   ]
  },
  {
   "cell_type": "code",
   "execution_count": 18,
   "id": "8e6d5bfd-a8c2-42d5-88bb-7b89518cfc8c",
   "metadata": {},
   "outputs": [],
   "source": [
    "groceries = [fruits, vegetables, meats]"
   ]
  },
  {
   "cell_type": "code",
   "execution_count": 19,
   "id": "66c14f76-4ae1-4b15-8e58-1f0cd4ccccd5",
   "metadata": {},
   "outputs": [
    {
     "name": "stdout",
     "output_type": "stream",
     "text": [
      "['apple', 'orange', 'banana', 'coconut']\n"
     ]
    }
   ],
   "source": [
    "print(fruits)"
   ]
  },
  {
   "cell_type": "code",
   "execution_count": 20,
   "id": "1eb93cba-5569-425e-854d-9eb15a19e285",
   "metadata": {},
   "outputs": [
    {
     "name": "stdout",
     "output_type": "stream",
     "text": [
      "['carrots', 'tomato', 'potato']\n"
     ]
    }
   ],
   "source": [
    "print(vegetables)"
   ]
  },
  {
   "cell_type": "code",
   "execution_count": 21,
   "id": "282c1c12-7456-4d01-8799-20ded45f06d0",
   "metadata": {},
   "outputs": [
    {
     "name": "stdout",
     "output_type": "stream",
     "text": [
      "['chiken', 'fish', 'pork']\n"
     ]
    }
   ],
   "source": [
    "print(meats)"
   ]
  },
  {
   "cell_type": "code",
   "execution_count": 22,
   "id": "408c86df-6972-47e8-88a3-76273c3fd6e0",
   "metadata": {},
   "outputs": [
    {
     "name": "stdout",
     "output_type": "stream",
     "text": [
      "[['apple', 'orange', 'banana', 'coconut'], ['carrots', 'tomato', 'potato'], ['chiken', 'fish', 'pork']]\n"
     ]
    }
   ],
   "source": [
    "print(groceries)"
   ]
  },
  {
   "cell_type": "code",
   "execution_count": 23,
   "id": "10b5eb04-237e-4cc7-8ac4-026e8c461f6f",
   "metadata": {},
   "outputs": [
    {
     "name": "stdout",
     "output_type": "stream",
     "text": [
      "['apple', 'orange', 'banana', 'coconut']\n"
     ]
    }
   ],
   "source": [
    "print(groceries[0])"
   ]
  },
  {
   "cell_type": "code",
   "execution_count": 24,
   "id": "4339a58b-d085-4ec4-8ad2-414b13c47918",
   "metadata": {},
   "outputs": [
    {
     "name": "stdout",
     "output_type": "stream",
     "text": [
      "['carrots', 'tomato', 'potato']\n"
     ]
    }
   ],
   "source": [
    "print(groceries[1])"
   ]
  },
  {
   "cell_type": "code",
   "execution_count": 25,
   "id": "95b5975f-6c16-42d2-b6a9-70ea656fd7ca",
   "metadata": {},
   "outputs": [
    {
     "name": "stdout",
     "output_type": "stream",
     "text": [
      "['chiken', 'fish', 'pork']\n"
     ]
    }
   ],
   "source": [
    "print(groceries[2])"
   ]
  },
  {
   "cell_type": "code",
   "execution_count": 26,
   "id": "8684b8b4-32e9-4e70-8b91-1daa30dea48c",
   "metadata": {},
   "outputs": [
    {
     "name": "stdout",
     "output_type": "stream",
     "text": [
      "apple\n"
     ]
    }
   ],
   "source": [
    "print(groceries[0][0])"
   ]
  },
  {
   "cell_type": "code",
   "execution_count": 27,
   "id": "2d7fbde1-3430-48a9-a7d6-a11dd751b119",
   "metadata": {},
   "outputs": [
    {
     "name": "stdout",
     "output_type": "stream",
     "text": [
      "orange\n"
     ]
    }
   ],
   "source": [
    "print(groceries[0][1])"
   ]
  },
  {
   "cell_type": "code",
   "execution_count": 28,
   "id": "5069147d-b9a6-43f8-af32-e34e82abe11c",
   "metadata": {},
   "outputs": [
    {
     "name": "stdout",
     "output_type": "stream",
     "text": [
      "fish\n"
     ]
    }
   ],
   "source": [
    "print(groceries[2][1])"
   ]
  },
  {
   "cell_type": "code",
   "execution_count": 29,
   "id": "0a8813ed-0dbe-4a59-87d3-108742266174",
   "metadata": {},
   "outputs": [
    {
     "name": "stdout",
     "output_type": "stream",
     "text": [
      "coconut\n"
     ]
    }
   ],
   "source": [
    "print(groceries[0][3])"
   ]
  },
  {
   "cell_type": "code",
   "execution_count": 30,
   "id": "753380cd-cd5c-4326-943a-39485ecf79d4",
   "metadata": {},
   "outputs": [],
   "source": [
    "groceries = [[\"apple\", \"orange\", \"banana\", \"coconut\"],\n",
    "             [\"carrots\", \"tomato\", \"potato\"], \n",
    "             [\"chiken\", \"fish\", \"pork\"]]"
   ]
  },
  {
   "cell_type": "code",
   "execution_count": 31,
   "id": "64fa2ff4-b363-4225-9a6d-a06458e0c2b7",
   "metadata": {},
   "outputs": [
    {
     "name": "stdout",
     "output_type": "stream",
     "text": [
      "['apple', 'orange', 'banana', 'coconut']\n",
      "['carrots', 'tomato', 'potato']\n",
      "['chiken', 'fish', 'pork']\n"
     ]
    }
   ],
   "source": [
    "for collection in groceries:\n",
    "    print(collection)"
   ]
  },
  {
   "cell_type": "code",
   "execution_count": 32,
   "id": "757ec493-2805-43d3-b736-4def9c38b6ef",
   "metadata": {},
   "outputs": [
    {
     "name": "stdout",
     "output_type": "stream",
     "text": [
      "apple\n",
      "orange\n",
      "banana\n",
      "coconut\n",
      "carrots\n",
      "tomato\n",
      "potato\n",
      "chiken\n",
      "fish\n",
      "pork\n"
     ]
    }
   ],
   "source": [
    "for collection in groceries:\n",
    "    for food in collection:\n",
    "        print(food)"
   ]
  },
  {
   "cell_type": "code",
   "execution_count": 33,
   "id": "6739c2be-efa0-4d7e-97ea-66dd83407053",
   "metadata": {},
   "outputs": [
    {
     "name": "stdout",
     "output_type": "stream",
     "text": [
      "apple orange banana coconut \n",
      "carrots tomato potato \n",
      "chiken fish pork \n"
     ]
    }
   ],
   "source": [
    "for collection in groceries:\n",
    "    for food in collection:\n",
    "        print(food, end=\" \")\n",
    "    print()"
   ]
  },
  {
   "cell_type": "code",
   "execution_count": 34,
   "id": "63345071-5296-47c2-91a1-59d000de265a",
   "metadata": {},
   "outputs": [],
   "source": [
    "num_pad = ((1,2,3),\n",
    "           (4,5,6),\n",
    "           (7,8,9),\n",
    "           (\"*\",0,\"#\"))"
   ]
  },
  {
   "cell_type": "code",
   "execution_count": 35,
   "id": "353826b5-3c95-4a67-8df3-6ab174b58a3b",
   "metadata": {},
   "outputs": [
    {
     "name": "stdout",
     "output_type": "stream",
     "text": [
      "(1, 2, 3)\n",
      "(4, 5, 6)\n",
      "(7, 8, 9)\n",
      "('*', 0, '#')\n"
     ]
    }
   ],
   "source": [
    "for row in num_pad:\n",
    "    print(row)"
   ]
  },
  {
   "cell_type": "code",
   "execution_count": 36,
   "id": "5e07d406-f629-4b8e-9abf-5a0f9f606eb0",
   "metadata": {},
   "outputs": [
    {
     "name": "stdout",
     "output_type": "stream",
     "text": [
      "1  2  3  \n",
      "4  5  6  \n",
      "7  8  9  \n",
      "*  0  #  \n"
     ]
    }
   ],
   "source": [
    "for row in num_pad:\n",
    "    for num in row:\n",
    "        print(num, end=\"  \")\n",
    "    print()"
   ]
  },
  {
   "cell_type": "code",
   "execution_count": null,
   "id": "57440574-f0aa-4a96-9cf6-8d9de2698ff4",
   "metadata": {},
   "outputs": [],
   "source": []
  }
 ],
 "metadata": {
  "kernelspec": {
   "display_name": "Python [conda env:base] *",
   "language": "python",
   "name": "conda-base-py"
  },
  "language_info": {
   "codemirror_mode": {
    "name": "ipython",
    "version": 3
   },
   "file_extension": ".py",
   "mimetype": "text/x-python",
   "name": "python",
   "nbconvert_exporter": "python",
   "pygments_lexer": "ipython3",
   "version": "3.13.5"
  }
 },
 "nbformat": 4,
 "nbformat_minor": 5
}
