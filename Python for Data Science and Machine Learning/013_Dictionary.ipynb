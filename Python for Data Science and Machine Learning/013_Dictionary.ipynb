{
 "cells": [
  {
   "cell_type": "markdown",
   "id": "4d43f953-b36d-4807-8f67-0bd93fe5ea16",
   "metadata": {},
   "source": [
    "# Dictionary\n",
    "## a collection of {key:value} pairs ordered and changeable. NO Duplicates"
   ]
  },
  {
   "cell_type": "code",
   "execution_count": 17,
   "id": "b3eb64fa-8c67-45d9-aef4-44d01ab36a3b",
   "metadata": {
    "ExecuteTime": {
     "end_time": "2025-09-21T14:41:43.617936Z",
     "start_time": "2025-09-21T14:41:43.612442Z"
    }
   },
   "outputs": [],
   "source": [
    "capitals = {\"USA\": \"Washington D.C.\",\n",
    "            \"India\": \"New Delhi\",\n",
    "            \"China\": \"Bejing\",\n",
    "            \"Russia\": \"Mascow\",\n",
    "           }"
   ]
  },
  {
   "cell_type": "code",
   "execution_count": 3,
   "id": "f418c2d4c793c63e",
   "metadata": {
    "ExecuteTime": {
     "end_time": "2025-09-21T14:48:03.354078Z",
     "start_time": "2025-09-21T14:48:03.349902Z"
    }
   },
   "outputs": [
    {
     "name": "stdout",
     "output_type": "stream",
     "text": [
      "['__class__', '__class_getitem__', '__contains__', '__delattr__', '__delitem__', '__dir__', '__doc__', '__eq__', '__format__', '__ge__', '__getattribute__', '__getitem__', '__getstate__', '__gt__', '__hash__', '__init__', '__init_subclass__', '__ior__', '__iter__', '__le__', '__len__', '__lt__', '__ne__', '__new__', '__or__', '__reduce__', '__reduce_ex__', '__repr__', '__reversed__', '__ror__', '__setattr__', '__setitem__', '__sizeof__', '__str__', '__subclasshook__', 'clear', 'copy', 'fromkeys', 'get', 'items', 'keys', 'pop', 'popitem', 'setdefault', 'update', 'values']\n"
     ]
    }
   ],
   "source": [
    "print(dir(capitals))"
   ]
  },
  {
   "cell_type": "code",
   "execution_count": 4,
   "id": "4bea8181fa2cbc0d",
   "metadata": {
    "ExecuteTime": {
     "end_time": "2025-09-21T14:48:18.715244Z",
     "start_time": "2025-09-21T14:48:18.663835Z"
    },
    "scrolled": true
   },
   "outputs": [
    {
     "name": "stdout",
     "output_type": "stream",
     "text": [
      "Help on dict object:\n",
      "\n",
      "class dict(object)\n",
      " |  dict() -> new empty dictionary\n",
      " |  dict(mapping) -> new dictionary initialized from a mapping object's\n",
      " |      (key, value) pairs\n",
      " |  dict(iterable) -> new dictionary initialized as if via:\n",
      " |      d = {}\n",
      " |      for k, v in iterable:\n",
      " |          d[k] = v\n",
      " |  dict(**kwargs) -> new dictionary initialized with the name=value pairs\n",
      " |      in the keyword argument list.  For example:  dict(one=1, two=2)\n",
      " |\n",
      " |  Methods defined here:\n",
      " |\n",
      " |  __contains__(self, key, /)\n",
      " |      True if the dictionary has the specified key, else False.\n",
      " |\n",
      " |  __delitem__(self, key, /)\n",
      " |      Delete self[key].\n",
      " |\n",
      " |  __eq__(self, value, /)\n",
      " |      Return self==value.\n",
      " |\n",
      " |  __ge__(self, value, /)\n",
      " |      Return self>=value.\n",
      " |\n",
      " |  __getattribute__(self, name, /)\n",
      " |      Return getattr(self, name).\n",
      " |\n",
      " |  __getitem__(self, key, /)\n",
      " |      Return self[key].\n",
      " |\n",
      " |  __gt__(self, value, /)\n",
      " |      Return self>value.\n",
      " |\n",
      " |  __init__(self, /, *args, **kwargs)\n",
      " |      Initialize self.  See help(type(self)) for accurate signature.\n",
      " |\n",
      " |  __ior__(self, value, /)\n",
      " |      Return self|=value.\n",
      " |\n",
      " |  __iter__(self, /)\n",
      " |      Implement iter(self).\n",
      " |\n",
      " |  __le__(self, value, /)\n",
      " |      Return self<=value.\n",
      " |\n",
      " |  __len__(self, /)\n",
      " |      Return len(self).\n",
      " |\n",
      " |  __lt__(self, value, /)\n",
      " |      Return self<value.\n",
      " |\n",
      " |  __ne__(self, value, /)\n",
      " |      Return self!=value.\n",
      " |\n",
      " |  __or__(self, value, /)\n",
      " |      Return self|value.\n",
      " |\n",
      " |  __repr__(self, /)\n",
      " |      Return repr(self).\n",
      " |\n",
      " |  __reversed__(self, /)\n",
      " |      Return a reverse iterator over the dict keys.\n",
      " |\n",
      " |  __ror__(self, value, /)\n",
      " |      Return value|self.\n",
      " |\n",
      " |  __setitem__(self, key, value, /)\n",
      " |      Set self[key] to value.\n",
      " |\n",
      " |  __sizeof__(self, /)\n",
      " |      Return the size of the dict in memory, in bytes.\n",
      " |\n",
      " |  clear(self, /)\n",
      " |      Remove all items from the dict.\n",
      " |\n",
      " |  copy(self, /)\n",
      " |      Return a shallow copy of the dict.\n",
      " |\n",
      " |  get(self, key, default=None, /)\n",
      " |      Return the value for key if key is in the dictionary, else default.\n",
      " |\n",
      " |  items(self, /)\n",
      " |      Return a set-like object providing a view on the dict's items.\n",
      " |\n",
      " |  keys(self, /)\n",
      " |      Return a set-like object providing a view on the dict's keys.\n",
      " |\n",
      " |  pop(self, key, default=<unrepresentable>, /)\n",
      " |      D.pop(k[,d]) -> v, remove specified key and return the corresponding value.\n",
      " |\n",
      " |      If the key is not found, return the default if given; otherwise,\n",
      " |      raise a KeyError.\n",
      " |\n",
      " |  popitem(self, /)\n",
      " |      Remove and return a (key, value) pair as a 2-tuple.\n",
      " |\n",
      " |      Pairs are returned in LIFO (last-in, first-out) order.\n",
      " |      Raises KeyError if the dict is empty.\n",
      " |\n",
      " |  setdefault(self, key, default=None, /)\n",
      " |      Insert key with a value of default if key is not in the dictionary.\n",
      " |\n",
      " |      Return the value for key if key is in the dictionary, else default.\n",
      " |\n",
      " |  update(...)\n",
      " |      D.update([E, ]**F) -> None.  Update D from mapping/iterable E and F.\n",
      " |      If E is present and has a .keys() method, then does:  for k in E.keys(): D[k] = E[k]\n",
      " |      If E is present and lacks a .keys() method, then does:  for k, v in E: D[k] = v\n",
      " |      In either case, this is followed by: for k in F:  D[k] = F[k]\n",
      " |\n",
      " |  values(self, /)\n",
      " |      Return an object providing a view on the dict's values.\n",
      " |\n",
      " |  ----------------------------------------------------------------------\n",
      " |  Class methods defined here:\n",
      " |\n",
      " |  __class_getitem__(object, /)\n",
      " |      See PEP 585\n",
      " |\n",
      " |  fromkeys(iterable, value=None, /)\n",
      " |      Create a new dictionary with keys from iterable and values set to value.\n",
      " |\n",
      " |  ----------------------------------------------------------------------\n",
      " |  Static methods defined here:\n",
      " |\n",
      " |  __new__(*args, **kwargs)\n",
      " |      Create and return a new object.  See help(type) for accurate signature.\n",
      " |\n",
      " |  ----------------------------------------------------------------------\n",
      " |  Data and other attributes defined here:\n",
      " |\n",
      " |  __hash__ = None\n",
      "\n",
      "None\n"
     ]
    }
   ],
   "source": [
    "print(help(capitals))"
   ]
  },
  {
   "cell_type": "code",
   "execution_count": 5,
   "id": "b754f23821aa097e",
   "metadata": {
    "ExecuteTime": {
     "end_time": "2025-09-21T14:48:59.423589Z",
     "start_time": "2025-09-21T14:48:59.417728Z"
    }
   },
   "outputs": [
    {
     "name": "stdout",
     "output_type": "stream",
     "text": [
      "Washington D.C.\n"
     ]
    }
   ],
   "source": [
    "print(capitals.get(\"USA\"))"
   ]
  },
  {
   "cell_type": "code",
   "execution_count": 6,
   "id": "d12c598fc686ce71",
   "metadata": {
    "ExecuteTime": {
     "end_time": "2025-09-21T14:49:58.166339Z",
     "start_time": "2025-09-21T14:49:58.159923Z"
    }
   },
   "outputs": [
    {
     "name": "stdout",
     "output_type": "stream",
     "text": [
      "New Delhi\n"
     ]
    }
   ],
   "source": [
    "print(capitals[\"India\"])"
   ]
  },
  {
   "cell_type": "code",
   "execution_count": 7,
   "id": "6555dbfcddf255ec",
   "metadata": {
    "ExecuteTime": {
     "end_time": "2025-09-21T14:48:23.137164Z",
     "start_time": "2025-09-21T14:48:23.128585Z"
    }
   },
   "outputs": [
    {
     "name": "stdout",
     "output_type": "stream",
     "text": [
      "New Delhi\n"
     ]
    }
   ],
   "source": [
    "print(capitals.get(\"India\"))"
   ]
  },
  {
   "cell_type": "code",
   "execution_count": 8,
   "id": "41b05b333e79bb2b",
   "metadata": {
    "ExecuteTime": {
     "end_time": "2025-09-21T14:48:52.779436Z",
     "start_time": "2025-09-21T14:48:52.772661Z"
    }
   },
   "outputs": [
    {
     "name": "stdout",
     "output_type": "stream",
     "text": [
      "None\n"
     ]
    }
   ],
   "source": [
    "print(capitals.get(\"japan\"))"
   ]
  },
  {
   "cell_type": "code",
   "execution_count": 9,
   "id": "359b5dcb-d26a-4458-a24f-d25c2e38d7e6",
   "metadata": {},
   "outputs": [
    {
     "name": "stdout",
     "output_type": "stream",
     "text": [
      "That capital doesn't exist\n"
     ]
    }
   ],
   "source": [
    "if capitals.get('japan'):\n",
    "    print(\"That capital exist\")\n",
    "else:\n",
    "    print(\"That capital doesn't exist\")"
   ]
  },
  {
   "cell_type": "code",
   "execution_count": 10,
   "id": "d61e440b-774a-4534-9469-fa3293b83b2f",
   "metadata": {},
   "outputs": [
    {
     "name": "stdout",
     "output_type": "stream",
     "text": [
      "That capital exist\n"
     ]
    }
   ],
   "source": [
    "if capitals.get('Russia'):\n",
    "    print(\"That capital exist\")\n",
    "else:\n",
    "    print(\"That capital doesn't exist\")"
   ]
  },
  {
   "cell_type": "code",
   "execution_count": 11,
   "id": "11a91d06-4a1d-4316-8bf4-e83c69147b51",
   "metadata": {},
   "outputs": [],
   "source": [
    "capitals.update({\"Germany\":\"Berlin\"})"
   ]
  },
  {
   "cell_type": "code",
   "execution_count": 12,
   "id": "712a0c03-aa30-45fc-b80d-1ad0ff1a3731",
   "metadata": {},
   "outputs": [
    {
     "name": "stdout",
     "output_type": "stream",
     "text": [
      "{'USA': 'Washington D.C.', 'India': 'New Delhi', 'China': 'Bejing', 'Russia': 'Mascow', 'Germany': 'Berlin'}\n"
     ]
    }
   ],
   "source": [
    "print(capitals)"
   ]
  },
  {
   "cell_type": "code",
   "execution_count": 18,
   "id": "82c84c28-f687-4be7-bd7a-e217833e5353",
   "metadata": {},
   "outputs": [
    {
     "name": "stdout",
     "output_type": "stream",
     "text": [
      "{'USA': 'Washington D.C.', 'India': 'New Delhi', 'Russia': 'Mascow'}\n"
     ]
    }
   ],
   "source": [
    "capitals.pop(\"China\") # By doing this we can delete a value\n",
    "print(capitals)"
   ]
  },
  {
   "cell_type": "code",
   "execution_count": 19,
   "id": "6443ef19-df1b-4c32-9744-d2f2177bc5f4",
   "metadata": {},
   "outputs": [
    {
     "name": "stdout",
     "output_type": "stream",
     "text": [
      "{'USA': 'Washington D.C.', 'India': 'New Delhi'}\n"
     ]
    }
   ],
   "source": [
    "capitals.popitem() # it will remove the latest item from the dictionary, here in-case it is Russia:mascow\n",
    "print(capitals)"
   ]
  },
  {
   "cell_type": "code",
   "execution_count": null,
   "id": "6aee1de2-7074-47d9-8718-fcc54205ec1c",
   "metadata": {},
   "outputs": [],
   "source": [
    "captials.clear() #it will clear all the values in the dictionary"
   ]
  },
  {
   "cell_type": "code",
   "execution_count": 20,
   "id": "83e768f4-e646-43dc-ba48-f47ef96cf11d",
   "metadata": {},
   "outputs": [
    {
     "name": "stdout",
     "output_type": "stream",
     "text": [
      "dict_keys(['USA', 'India'])\n"
     ]
    }
   ],
   "source": [
    "keys = capitals.keys()\n",
    "print(keys)"
   ]
  },
  {
   "cell_type": "code",
   "execution_count": 21,
   "id": "dfbbf1b0-6b69-4261-a540-f8698d041355",
   "metadata": {},
   "outputs": [
    {
     "name": "stdout",
     "output_type": "stream",
     "text": [
      "USA\n",
      "India\n"
     ]
    }
   ],
   "source": [
    "for key in capitals.keys():\n",
    "    print(key)"
   ]
  },
  {
   "cell_type": "code",
   "execution_count": 22,
   "id": "f5f4cf80-6401-485c-b2e0-61c642bb5354",
   "metadata": {},
   "outputs": [
    {
     "name": "stdout",
     "output_type": "stream",
     "text": [
      "Washington D.C.\n",
      "New Delhi\n"
     ]
    }
   ],
   "source": [
    "for value in capitals.values():\n",
    "    print(value)"
   ]
  },
  {
   "cell_type": "code",
   "execution_count": 24,
   "id": "d164f187-53b9-4abb-920b-f42d3534dfda",
   "metadata": {},
   "outputs": [
    {
     "name": "stdout",
     "output_type": "stream",
     "text": [
      "dict_values(['Washington D.C.', 'New Delhi'])\n"
     ]
    }
   ],
   "source": [
    "value = capitals.values()\n",
    "print(value)"
   ]
  },
  {
   "cell_type": "code",
   "execution_count": 26,
   "id": "9fd1f45d-8fb6-40d9-beab-2d56ae248f1a",
   "metadata": {},
   "outputs": [
    {
     "name": "stdout",
     "output_type": "stream",
     "text": [
      "dict_items([('USA', 'Washington D.C.'), ('India', 'New Delhi')])\n"
     ]
    }
   ],
   "source": [
    "items = capitals.items()\n",
    "print(items)"
   ]
  },
  {
   "cell_type": "code",
   "execution_count": 28,
   "id": "4828c392-e576-4599-896a-4658ff43a466",
   "metadata": {},
   "outputs": [
    {
     "name": "stdout",
     "output_type": "stream",
     "text": [
      "USA: Washington D.C.\n",
      "India: New Delhi\n"
     ]
    }
   ],
   "source": [
    "for key, value in capitals.items():\n",
    "    print(f\"{key}: {value}\")"
   ]
  }
 ],
 "metadata": {
  "kernelspec": {
   "display_name": "Python [conda env:base] *",
   "language": "python",
   "name": "conda-base-py"
  },
  "language_info": {
   "codemirror_mode": {
    "name": "ipython",
    "version": 3
   },
   "file_extension": ".py",
   "mimetype": "text/x-python",
   "name": "python",
   "nbconvert_exporter": "python",
   "pygments_lexer": "ipython3",
   "version": "3.13.5"
  }
 },
 "nbformat": 4,
 "nbformat_minor": 5
}
