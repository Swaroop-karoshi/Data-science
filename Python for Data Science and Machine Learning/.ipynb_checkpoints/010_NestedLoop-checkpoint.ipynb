{
 "cells": [
  {
   "cell_type": "markdown",
   "id": "40aad3b7-4717-44b8-aae5-b21cd8e4c551",
   "metadata": {
    "panel-layout": {
     "height": 110.984375,
     "visible": true,
     "width": 100
    }
   },
   "source": [
    "# Nested loop\n",
    "## A loop within another loop (outer, inner)\n",
    "    outer loop:\n",
    "        inner loop:"
   ]
  },
  {
   "cell_type": "markdown",
   "id": "228797aa-14c3-4def-8dca-f0c7a1031cbf",
   "metadata": {
    "panel-layout": {
     "height": 131.70314025878906,
     "visible": true,
     "width": 100
    }
   },
   "source": [
    "We can have a \n",
    "1. while loop inside a while loop\n",
    "2. for loop inside a for loop\n",
    "3. while loop inside a for loop\n",
    "4. for loop inside a while loop"
   ]
  },
  {
   "cell_type": "code",
   "execution_count": 4,
   "id": "9180c13c-bad2-4acb-90d1-4d7ac1ab8c2b",
   "metadata": {},
   "outputs": [
    {
     "name": "stdout",
     "output_type": "stream",
     "text": [
      "1 2 3 4 5 6 7 8 9 "
     ]
    }
   ],
   "source": [
    "for x in range(1, 10):\n",
    "    print(x, end=\" \")"
   ]
  },
  {
   "cell_type": "code",
   "execution_count": 11,
   "id": "8c79bd6d-a040-496d-8968-a94faa9f3e07",
   "metadata": {},
   "outputs": [
    {
     "name": "stdout",
     "output_type": "stream",
     "text": [
      "1 2 3 4 5 6 7 8 9 1 2 3 4 5 6 7 8 9 1 2 3 4 5 6 7 8 9 "
     ]
    }
   ],
   "source": [
    "for x in range(3):\n",
    "    for y in range(1, 10):\n",
    "        print(y, end=\" \") #This repeats the code three times"
   ]
  },
  {
   "cell_type": "code",
   "execution_count": 13,
   "id": "69d199e6-6895-4338-83db-39c7867090fd",
   "metadata": {},
   "outputs": [
    {
     "name": "stdout",
     "output_type": "stream",
     "text": [
      "1 2 3 4 5 6 7 8 9 \n",
      "1 2 3 4 5 6 7 8 9 \n",
      "1 2 3 4 5 6 7 8 9 \n"
     ]
    }
   ],
   "source": [
    "for x in range(3):\n",
    "    for y in range(1, 10):\n",
    "        print(y, end=\" \")\n",
    "    print() #This give a new line after repeating one loop"
   ]
  },
  {
   "cell_type": "markdown",
   "id": "febe7f8a-1dbf-4dd2-9d7c-2fbeb1e3e6e4",
   "metadata": {},
   "source": [
    "## Print rectangle project"
   ]
  },
  {
   "cell_type": "code",
   "execution_count": 14,
   "id": "6e23a192-88d6-4653-be94-d7ca9c8b1c0f",
   "metadata": {},
   "outputs": [
    {
     "name": "stdin",
     "output_type": "stream",
     "text": [
      "Enter the # of rows:  9\n",
      "Enter the # of columns:  5\n",
      "Enter the symbol to use:  |\n"
     ]
    },
    {
     "name": "stdout",
     "output_type": "stream",
     "text": [
      "| | | | | \n",
      "| | | | | \n",
      "| | | | | \n",
      "| | | | | \n",
      "| | | | | \n",
      "| | | | | \n",
      "| | | | | \n",
      "| | | | | \n",
      "| | | | | \n"
     ]
    }
   ],
   "source": [
    "rows = int(input(\"Enter the # of rows: \"))\n",
    "columns = int(input(\"Enter the # of columns: \"))\n",
    "symbols = input(\"Enter the symbol to use: \")\n",
    "\n",
    "for x in range(rows):\n",
    "    for y in range(columns):\n",
    "        print(symbols, end=\" \");\n",
    "    print()"
   ]
  }
 ],
 "metadata": {
  "kernelspec": {
   "display_name": "Python 3 (ipykernel)",
   "language": "python",
   "name": "python3"
  },
  "language_info": {
   "codemirror_mode": {
    "name": "ipython",
    "version": 3
   },
   "file_extension": ".py",
   "mimetype": "text/x-python",
   "name": "python",
   "nbconvert_exporter": "python",
   "pygments_lexer": "ipython3",
   "version": "3.13.5"
  },
  "panel-cell-order": [
   "40aad3b7-4717-44b8-aae5-b21cd8e4c551",
   "228797aa-14c3-4def-8dca-f0c7a1031cbf"
  ]
 },
 "nbformat": 4,
 "nbformat_minor": 5
}
